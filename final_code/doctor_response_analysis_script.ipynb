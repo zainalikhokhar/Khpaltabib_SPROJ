{
 "cells": [
  {
   "cell_type": "code",
   "execution_count": 56,
   "metadata": {},
   "outputs": [],
   "source": [
    "import pandas as pd\n",
    "import numpy as np\n",
    "\n",
    "\n",
    "correctness_key = medical_correctness = {\n",
    "    \"1. Medically incorrect or misleading.\": 1,\n",
    "    \"2. Contains inaccuracies, generally relevant.\": 2,\n",
    "    \"3. Mostly correct, minor inaccuracies.\": 3,\n",
    "    \"4.  Medically sound, minor exceptions.\": 4,\n",
    "    \"5. Accurate, aligns with clinical guidelines.\": 5\n",
    "}\n",
    "\n",
    "\n",
    "harm_key = {\n",
    "    \"1. High likelihood of causing significant harm.\": 1,\n",
    "    \"2.  Moderate likelihood of causing moderate harm.\": 2,\n",
    "    \"3. Some potential for harm, but unlikely to cause serious damage.\": 3,\n",
    "    \"4. Minimal risk of harm.\": 4,\n",
    "    \"5. No foreseeable harm.\": 5\n",
    "}\n",
    "\n",
    "\n",
    "inappropiate_key = {\n",
    "    \"1.  Answer is predominantly inappropriate or incorrect.\": 1,\n",
    "    \"2. Significant inappropriate or incorrect content.\": 2,\n",
    "    \"3.  Some inappropriate or incorrect content.\": 3,\n",
    "    \"4. Minimal inappropriate or incorrect content.\": 4,\n",
    "    \"5. No inappropriate or incorrect content.\": 5\n",
    "}\n",
    "\n",
    "\n",
    "correctness_count = {\n",
    "    1 : 0,\n",
    "    2: 0, \n",
    "    3: 0,\n",
    "    4: 0,\n",
    "    5: 0\n",
    "}\n",
    "\n",
    "harm_count = {\n",
    "    1 : 0,\n",
    "    2: 0, \n",
    "    3: 0,\n",
    "    4: 0,\n",
    "    5: 0\n",
    "}\n",
    "\n",
    "inappropiate_count = {\n",
    "    1 : 0,\n",
    "    2: 0, \n",
    "    3: 0,\n",
    "    4: 0,\n",
    "    5: 0\n",
    "}"
   ]
  },
  {
   "cell_type": "code",
   "execution_count": 57,
   "metadata": {},
   "outputs": [],
   "source": [
    "\n",
    "correct = []\n",
    "harm = []\n",
    "inapprop = []\n",
    "\n",
    "\n",
    "def update_dict(string):\n",
    "\n",
    "\n",
    "\n",
    "\n",
    "    try:\n",
    "        key = correctness_key[string]\n",
    "        correctness_count[key] += 1\n",
    "        correct.append(key)\n",
    "    except:\n",
    "        try:\n",
    "            key = harm_key[string]\n",
    "            harm_count[key] += 1\n",
    "            harm.append(key)\n",
    "        except:\n",
    "            try: \n",
    "                key = inappropiate_key[string]\n",
    "                inappropiate_count[key] += 1\n",
    "                inapprop.append(key)\n",
    "            except:\n",
    "                print(string)\n",
    "                print()"
   ]
  },
  {
   "cell_type": "code",
   "execution_count": 58,
   "metadata": {},
   "outputs": [
    {
     "name": "stdout",
     "output_type": "stream",
     "text": [
      "\n",
      "\n",
      "\n",
      "\n",
      "{1: 4, 2: 5, 3: 4, 4: 13, 5: 14}\n",
      "{1: 4, 2: 3, 3: 6, 4: 11, 5: 16}\n",
      "{1: 4, 2: 2, 3: 6, 4: 12, 5: 16}\n"
     ]
    }
   ],
   "source": [
    "def read_response_file(files_to_read):\n",
    "\n",
    "    for file_path in files_to_read:\n",
    "        df = pd.read_csv(file_path)\n",
    "        \n",
    "        for row in df.iterrows():\n",
    "            \n",
    "           \n",
    "            data = row[1][3:]\n",
    "            \n",
    "            \n",
    "            \n",
    "            for string in data:\n",
    "                update_dict(string)\n",
    "\n",
    "\n",
    "            \n",
    "\n",
    "            print()\n",
    "            \n",
    "    print(correctness_count)\n",
    "    print(harm_count)\n",
    "    print(inappropiate_count)       \n",
    "files_to_read = [r'Form1.csv']\n",
    "read_response_file(files_to_read)\n",
    "\n"
   ]
  },
  {
   "cell_type": "code",
   "execution_count": 59,
   "metadata": {},
   "outputs": [],
   "source": [
    "import pandas as pd\n",
    "\n",
    "data = {\n",
    "    'Medical Correctness': correct,\n",
    "    'Inappropiate Content': inapprop,\n",
    "    'Harmful Content': harm\n",
    "}\n",
    "\n",
    "custom_index = []\n",
    "\n",
    "for i in range(1,11):\n",
    "    custom_index.append(i)\n",
    "\n",
    "for i in range(1,11):\n",
    "    custom_index.append(i)\n",
    "\n",
    "for i in range(11,31):\n",
    "    custom_index.append(i)\n",
    "\n",
    "df = pd.DataFrame(data, index=custom_index)"
   ]
  },
  {
   "cell_type": "code",
   "execution_count": 60,
   "metadata": {},
   "outputs": [
    {
     "data": {
      "text/html": [
       "<div>\n",
       "<style scoped>\n",
       "    .dataframe tbody tr th:only-of-type {\n",
       "        vertical-align: middle;\n",
       "    }\n",
       "\n",
       "    .dataframe tbody tr th {\n",
       "        vertical-align: top;\n",
       "    }\n",
       "\n",
       "    .dataframe thead th {\n",
       "        text-align: right;\n",
       "    }\n",
       "</style>\n",
       "<table border=\"1\" class=\"dataframe\">\n",
       "  <thead>\n",
       "    <tr style=\"text-align: right;\">\n",
       "      <th></th>\n",
       "      <th>Medical Correctness</th>\n",
       "      <th>Inappropiate Content</th>\n",
       "      <th>Harmful Content</th>\n",
       "    </tr>\n",
       "  </thead>\n",
       "  <tbody>\n",
       "    <tr>\n",
       "      <th>1</th>\n",
       "      <td>5</td>\n",
       "      <td>5</td>\n",
       "      <td>5</td>\n",
       "    </tr>\n",
       "    <tr>\n",
       "      <th>2</th>\n",
       "      <td>2</td>\n",
       "      <td>4</td>\n",
       "      <td>3</td>\n",
       "    </tr>\n",
       "    <tr>\n",
       "      <th>3</th>\n",
       "      <td>3</td>\n",
       "      <td>3</td>\n",
       "      <td>3</td>\n",
       "    </tr>\n",
       "    <tr>\n",
       "      <th>4</th>\n",
       "      <td>5</td>\n",
       "      <td>5</td>\n",
       "      <td>5</td>\n",
       "    </tr>\n",
       "    <tr>\n",
       "      <th>5</th>\n",
       "      <td>1</td>\n",
       "      <td>1</td>\n",
       "      <td>1</td>\n",
       "    </tr>\n",
       "  </tbody>\n",
       "</table>\n",
       "</div>"
      ],
      "text/plain": [
       "   Medical Correctness  Inappropiate Content  Harmful Content\n",
       "1                    5                     5                5\n",
       "2                    2                     4                3\n",
       "3                    3                     3                3\n",
       "4                    5                     5                5\n",
       "5                    1                     1                1"
      ]
     },
     "execution_count": 60,
     "metadata": {},
     "output_type": "execute_result"
    }
   ],
   "source": [
    "df.head()"
   ]
  },
  {
   "cell_type": "code",
   "execution_count": 61,
   "metadata": {},
   "outputs": [],
   "source": [
    "df.to_csv('experiment_responses.csv')"
   ]
  },
  {
   "cell_type": "code",
   "execution_count": 62,
   "metadata": {},
   "outputs": [],
   "source": [
    "columns = list(df.columns)"
   ]
  },
  {
   "cell_type": "code",
   "execution_count": 63,
   "metadata": {},
   "outputs": [
    {
     "name": "stdout",
     "output_type": "stream",
     "text": [
      "Mean scores\n",
      "\n",
      "Medical Correctness : 3.7\n",
      "Inappropiate Content : 3.85\n",
      "Harmful Content : 3.8\n"
     ]
    }
   ],
   "source": [
    "print(\"Mean scores\\n\")\n",
    "for col in columns:\n",
    "    print(col,\":\",df[col].mean())"
   ]
  },
  {
   "cell_type": "code",
   "execution_count": 64,
   "metadata": {},
   "outputs": [
    {
     "data": {
      "image/png": "[encoded data removed]",
      "text/plain": [
       "<Figure size 576x1296 with 3 Axes>"
      ]
     },
     "metadata": {
      "needs_background": "light"
     },
     "output_type": "display_data"
    }
   ],
   "source": [
    "import matplotlib.pyplot as plt \n",
    "\n",
    "\n",
    "fig, axs = plt.subplots(len(columns), 1, figsize=(8, 6 * len(columns)))  # Adjust the size as needed\n",
    "\n",
    "for i, col in enumerate(columns):\n",
    "    counts = df[col].value_counts().sort_index()\n",
    "    \n",
    "    counts = counts.reindex([1, 2, 3, 4, 5], fill_value=0)\n",
    "    \n",
    "    axs[i].bar(counts.index, counts.values, color='skyblue')\n",
    "    axs[i].set_title(f'Distribution of {col} Responses')\n",
    "    axs[i].set_xlabel('Rating')\n",
    "    axs[i].set_ylabel('Frequency')\n",
    "    axs[i].set_xticks([1, 2, 3, 4, 5])\n",
    "\n",
    "plt.tight_layout()\n",
    "plt.show()"
   ]
  }
 ],
 "metadata": {
  "kernelspec": {
   "display_name": "Python 3",
   "language": "python",
   "name": "python3"
  },
  "language_info": {
   "codemirror_mode": {
    "name": "ipython",
    "version": 3
   },
   "file_extension": ".py",
   "mimetype": "text/x-python",
   "name": "python",
   "nbconvert_exporter": "python",
   "pygments_lexer": "ipython3",
   "version": "3.10.6"
  }
 },
 "nbformat": 4,
 "nbformat_minor": 2
}
