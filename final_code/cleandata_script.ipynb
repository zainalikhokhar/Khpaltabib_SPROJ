{
 "cells": [
  {
   "cell_type": "code",
   "execution_count": 1,
   "metadata": {},
   "outputs": [],
   "source": [
    "import json\n",
    "\n",
    "# Open the JSON file\n",
    "with open('HealthCareMagic-100k.json') as f:\n",
    "    # Load the JSON data\n",
    "    data = json.load(f)"
   ]
  },
  {
   "cell_type": "code",
   "execution_count": 2,
   "metadata": {},
   "outputs": [],
   "source": [
    "data = data[:10120]"
   ]
  },
  {
   "cell_type": "code",
   "execution_count": 3,
   "metadata": {},
   "outputs": [
    {
     "name": "stdout",
     "output_type": "stream",
     "text": [
      "Hi welcome to Chat Doctor forum. The reasons for persistent cough, without findings in the lungs might, Uveitis a growth at the end of the throat, by touching the pharynx cause severe cough. For this type of cough you need to use cough suppressants like dexametarphane, codeine, etc which are present in some cough syrups.  Best thing to get relief immediately is Darling with Luke warm salt water 2 or 3 times a day. Avoid taking fruits, juices, ice creams, ice water to Chat Doctor.  I advise you to consult an E.N.T.surgeon who is the doctor concerned with the causes in the pharynx.  Wishing for a quick and comfortable relief, and thanks for calling.\n",
      "Hi welcome to Khpaltabib forum. The reasons for persistent cough, without findings in the lungs might, Uveitis a growth at the end of the throat, by touching the pharynx cause severe cough. For this type of cough you need to use cough suppressants like dexametarphane, codeine, etc which are present in some cough syrups.  Best thing to get relief immediately is Darling with Luke warm salt water 2 or 3 times a day. Avoid taking fruits, juices, ice creams, ice water to Khpaltabib.  I advise you to consult an E.N.T.surgeon who is the doctor concerned with the causes in the pharynx.  Wishing for a quick and comfortable relief, and thanks for calling.\n"
     ]
    }
   ],
   "source": [
    "import re\n",
    "\n",
    "print(data[30]['output'])\n",
    "\n",
    "print(re.sub(r'Chat Doctor','Khpaltabib',data[30]['output']))"
   ]
  },
  {
   "cell_type": "code",
   "execution_count": 4,
   "metadata": {},
   "outputs": [],
   "source": [
    "for i in range(len(data)):\n",
    "    data[i]['output'] = re.sub(r'Chat Doctor','Khpaltabib',data[i]['output'])\n",
    "    data[i]['instruction'] = \"As a medical LLM working as an assistant for a real doctor, your task is to provide specific and accurate diagnoses for the patients' queries. When answering the queries, refrain from including any names of doctors or prescriptions in your response. Always start your answer with 'Thank you for choosing Khpaltabib' and proceed to diagnose the patients' conditions with detailed and specific explanations. Your responses should demonstrate a thorough understanding of medical conditions and provide clear and accurate diagnoses for each query. Please ensure that your answers are focused on diagnosing the patients' conditions and do not include any information related to prescribing medication or specific healthcare providers. Your responses should be detailed and informative, offering specific insights into the patients' medical concerns.\""
   ]
  },
  {
   "cell_type": "code",
   "execution_count": 5,
   "metadata": {},
   "outputs": [],
   "source": [
    "train_data = data[:10000]\n",
    "test_data = data[10000:]"
   ]
  },
  {
   "cell_type": "code",
   "execution_count": 6,
   "metadata": {},
   "outputs": [
    {
     "name": "stdout",
     "output_type": "stream",
     "text": [
      "105\n",
      "100\n"
     ]
    }
   ],
   "source": [
    "remove_index_list = [7,14,16,28,31,38,39,41,46,79,83,85, 93, 94, 112]\n",
    "\n",
    "filtered_test_data = [dict_ for i, dict_ in enumerate(test_data) if i not in remove_index_list]\n",
    "print(len(filtered_test_data))\n",
    "filtered_test_data = filtered_test_data[:100]\n",
    "print(len(filtered_test_data))"
   ]
  },
  {
   "cell_type": "code",
   "execution_count": 7,
   "metadata": {},
   "outputs": [],
   "source": [
    "# Specify the file path\n",
    "file_path = \"train_data.jsonl\"\n",
    "\n",
    "# Write the list of dictionaries to a JSON file\n",
    "with open(file_path, \"w\") as json_file:\n",
    "    json.dump(train_data, json_file)\n",
    "\n",
    "# Specify the file path\n",
    "file_path = \"test_data.jsonl\"\n",
    "\n",
    "# Write the list of dictionaries to a JSON file\n",
    "with open(file_path, \"w\") as json_file:\n",
    "    json.dump(filtered_test_data, json_file)\n",
    "\n"
   ]
  },
  {
   "cell_type": "code",
   "execution_count": 8,
   "metadata": {},
   "outputs": [
    {
     "name": "stdout",
     "output_type": "stream",
     "text": [
      "10000\n"
     ]
    }
   ],
   "source": [
    "import json\n",
    "with open('train_data.jsonl', 'r') as file:\n",
    "    train_data = json.load(file)\n",
    "print(len(train_data))\n",
    "\n",
    "\n",
    "\n",
    "# with open('test_data.jsonl', 'r') as file:\n",
    "#     test_data = json.load(file)\n",
    "# print(len(test_data))"
   ]
  }
 ],
 "metadata": {
  "kernelspec": {
   "display_name": "Python 3.12.0 64-bit",
   "language": "python",
   "name": "python3"
  },
  "language_info": {
   "codemirror_mode": {
    "name": "ipython",
    "version": 3
   },
   "file_extension": ".py",
   "mimetype": "text/x-python",
   "name": "python",
   "nbconvert_exporter": "python",
   "pygments_lexer": "ipython3",
   "version": "3.10.6"
  },
  "orig_nbformat": 4,
  "vscode": {
   "interpreter": {
    "hash": "aee8b7b246df8f9039afb4144a1f6fd8d2ca17a180786b69acc140d282b71a49"
   }
  }
 },
 "nbformat": 4,
 "nbformat_minor": 2
}
